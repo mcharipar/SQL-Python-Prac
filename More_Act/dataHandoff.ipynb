{
 "cells": [
  {
   "cell_type": "markdown",
   "id": "4e018d70-ed59-4868-8f52-c5d78041ba25",
   "metadata": {},
   "source": [
    "# Import Dependencies"
   ]
  },
  {
   "cell_type": "code",
   "execution_count": 180,
   "id": "1b93a4c9-acaa-4079-9f3f-7c92e2507c32",
   "metadata": {},
   "outputs": [],
   "source": [
    "import pandas as pd\n",
    "from pathlib import Path\n",
    "import psycopg2\n",
    "from psycopg2 import OperationalError\n",
    "from dotenv import load_dotenv\n",
    "import os\n",
    "from IPython.display import IFrame"
   ]
  },
  {
   "cell_type": "markdown",
   "id": "edc486b7-3c0b-459c-a328-992af1c7bc57",
   "metadata": {},
   "source": [
    "Load Postegres Password from `.env` File\n",
    "\\\n",
    "To download PostgreSQL: https://www.enterprisedb.com/downloads/postgres-postgresql-downloads"
   ]
  },
  {
   "cell_type": "markdown",
   "id": "00a1e24e-725d-4031-9be6-d8cdca66ac4c",
   "metadata": {},
   "source": [
    "Postgres password saved in file `.env`:\n",
    "\\\n",
    "```db_password = 'THE_POSTGRES_PASSWORD_HERE'```"
   ]
  },
  {
   "cell_type": "code",
   "execution_count": 183,
   "id": "8bfd6271-8f00-4836-a987-c7c7677a16cb",
   "metadata": {},
   "outputs": [],
   "source": [
    "load_dotenv()\n",
    "db_password = os.getenv(\"db_password\")"
   ]
  },
  {
   "cell_type": "code",
   "execution_count": 184,
   "id": "8d178407-13eb-4ef0-8e70-13359e328294",
   "metadata": {},
   "outputs": [],
   "source": [
    "# db_password"
   ]
  },
  {
   "cell_type": "code",
   "execution_count": 185,
   "id": "0dba96f9-3787-498c-9766-36c8c12ef7f6",
   "metadata": {},
   "outputs": [],
   "source": [
    "def create_connection(db_name, db_user, db_password, db_host, db_port):\n",
    "    connection = None\n",
    "    try:\n",
    "        connection = psycopg2.connect(\n",
    "            database=db_name,\n",
    "            user=db_user,\n",
    "            password=db_password,\n",
    "            host=db_host,\n",
    "            port=db_port,\n",
    "        )\n",
    "        # print(\"Connection to PostgreSQL DB successful\")\n",
    "    except OperationalError as e:\n",
    "        print(f\"The error '{e}' occurred\")\n",
    "    return connection"
   ]
  },
  {
   "cell_type": "code",
   "execution_count": 186,
   "id": "edf68b51-3f72-4bf8-8337-00de7a45fc48",
   "metadata": {},
   "outputs": [],
   "source": [
    "connection = create_connection(\n",
    "    \"postgres\", \"postgres\", db_password, \"127.0.0.1\", \"5432\"\n",
    ")"
   ]
  },
  {
   "cell_type": "code",
   "execution_count": 187,
   "id": "9d5556ea-a902-49a8-9946-0c7f83b6a194",
   "metadata": {},
   "outputs": [],
   "source": [
    "def create_database(connection, query):\n",
    "    connection.autocommit = True\n",
    "    cursor = connection.cursor()\n",
    "    try:\n",
    "        cursor.execute(query)\n",
    "        print(\"Query executed successfully\")\n",
    "    except OperationalError as e:\n",
    "        print(f\"The error '{e}' occurred\")"
   ]
  },
  {
   "cell_type": "code",
   "execution_count": 188,
   "id": "659e473a-f624-404c-9f36-179a1b266bc6",
   "metadata": {},
   "outputs": [],
   "source": [
    "create_database_query = \"CREATE DATABASE validate_health_db\" # make sure to use lower case"
   ]
  },
  {
   "cell_type": "code",
   "execution_count": 189,
   "id": "eb68b18a-315b-4ee0-ac30-aa7aaf5d16ef",
   "metadata": {},
   "outputs": [
    {
     "name": "stdout",
     "output_type": "stream",
     "text": [
      "This database already exists.\n"
     ]
    }
   ],
   "source": [
    "try:\n",
    "    create_database(connection, create_database_query)\n",
    "except:\n",
    "    print('This database already exists.')"
   ]
  },
  {
   "cell_type": "code",
   "execution_count": 190,
   "id": "4cac7aa6-ffe5-4549-afd8-2e730459bc06",
   "metadata": {},
   "outputs": [],
   "source": [
    "def connection():\n",
    "    return create_connection(\n",
    "    \"validate_health_db\", \"postgres\", db_password, \"127.0.0.1\", \"5432\"\n",
    ")\n",
    "connection = connection()"
   ]
  },
  {
   "cell_type": "code",
   "execution_count": 191,
   "id": "eb634ddc-f3fe-4170-bd10-f0339cb6adce",
   "metadata": {},
   "outputs": [],
   "source": [
    "def execute_query(connection, query):\n",
    "    connection.autocommit = True\n",
    "    cursor = connection.cursor()\n",
    "    try:\n",
    "        cursor.execute(query)\n",
    "        print(\"Query executed successfully\")\n",
    "    except OperationalError as e:\n",
    "        print(f\"The error '{e}' occurred\")"
   ]
  },
  {
   "cell_type": "markdown",
   "id": "85931cdc-134f-4e1e-9755-869b9f2d17c2",
   "metadata": {},
   "source": [
    "#### Create patient_visit Table"
   ]
  },
  {
   "cell_type": "code",
   "execution_count": 192,
   "id": "2dc4f15b-addd-48cd-98bf-a66546b9d7e5",
   "metadata": {
    "tags": []
   },
   "outputs": [],
   "source": [
    "create_patient_visit_table = \"\"\"\n",
    "CREATE TABLE IF NOT EXISTS patient_visit (\n",
    "    \"social_security_num\" INT8,\n",
    "    \"patient_first_name\" CHAR(80),\n",
    "    \"patient_last_name\" CHAR(80), \n",
    "    \"patient_age\" INT8,\n",
    "    \"visit_date\" DATE,\n",
    "    \"procedure_code\" CHAR(5),\n",
    "    \"doctor_name\" CHAR(200),\n",
    "    \"charge_for_visit\" MONEY\n",
    ")\n",
    "\"\"\""
   ]
  },
  {
   "cell_type": "code",
   "execution_count": 193,
   "id": "4b1ab951-09b2-4a3f-8ab4-3d73f3804af7",
   "metadata": {},
   "outputs": [
    {
     "name": "stdout",
     "output_type": "stream",
     "text": [
      "Query executed successfully\n"
     ]
    }
   ],
   "source": [
    "# try:\n",
    "execute_query(connection, create_patient_visit_table)\n",
    "# except:\n",
    "    # print('This table already exists.')"
   ]
  },
  {
   "cell_type": "markdown",
   "id": "2a3b12d1-99f6-406f-9ed3-0aa2647362e0",
   "metadata": {},
   "source": [
    "Import `.csv` Data Into course_details Table"
   ]
  },
  {
   "cell_type": "code",
   "execution_count": 194,
   "id": "dd38e423-4a09-497c-9dc7-cce48830d669",
   "metadata": {},
   "outputs": [
    {
     "name": "stdout",
     "output_type": "stream",
     "text": [
      "C:\\Users\\mchar\\Downloads\\Guild\\guild_proj\\data_handoff_data.csv\n"
     ]
    }
   ],
   "source": [
    "csv_dataset = Path(str(Path.cwd()) + '/' + 'data_handoff_data.csv')\n",
    "print(str(csv_dataset))"
   ]
  },
  {
   "cell_type": "code",
   "execution_count": 195,
   "id": "0f0d72d9-a76f-415c-ac9c-b3d88f241e53",
   "metadata": {},
   "outputs": [],
   "source": [
    "csv_dataset = \"\"\"\n",
    "COPY patient_visit\n",
    "FROM '{}'\n",
    "DELIMITER ','\n",
    "CSV HEADER;\n",
    "\"\"\".format(str(csv_dataset))"
   ]
  },
  {
   "cell_type": "code",
   "execution_count": 196,
   "id": "2b284813-e998-4736-b09b-06566e4c3733",
   "metadata": {},
   "outputs": [
    {
     "name": "stdout",
     "output_type": "stream",
     "text": [
      "Query executed successfully\n"
     ]
    }
   ],
   "source": [
    "execute_query(connection, csv_dataset)\n",
    "# If an error gets thrown change the permissions to 'Everyone' ->'Full control' in properties of the file (if using Windows).\n",
    "# Use chmod if using macOS or Linux distro."
   ]
  },
  {
   "cell_type": "code",
   "execution_count": 197,
   "id": "1b83c5a4-96e0-4285-8635-fe2520566898",
   "metadata": {},
   "outputs": [],
   "source": [
    "def execute_read_query(connection, query):\n",
    "    result = None\n",
    "    incrementor = 0\n",
    "    try:\n",
    "        cursor = connection.cursor()\n",
    "        cursor.execute(query)\n",
    "        result =cursor.fetchall()\n",
    "        \n",
    "        if len(result) < 10:\n",
    "            for x in result:\n",
    "                print(x)\n",
    "        else:\n",
    "            while incrementor < 15:\n",
    "                print(result[incrementor])\n",
    "                incrementor += 1\n",
    "    except OperationalError as e:\n",
    "        print(f\"The error '{e}' occurred\")"
   ]
  },
  {
   "cell_type": "code",
   "execution_count": 198,
   "id": "0efd4f80-c0e6-41ae-a5eb-2d751ae7266c",
   "metadata": {},
   "outputs": [],
   "source": [
    "# next_query = \"\"\"\n",
    "# DROP DATABASE IF EXISTS  validate_health_db;\n",
    "# \"\"\"\n",
    "\n",
    "# execute_read_query(connection, next_query)"
   ]
  },
  {
   "cell_type": "code",
   "execution_count": 199,
   "id": "9e4c7708-01ec-4f6f-ad46-a59390e340cd",
   "metadata": {},
   "outputs": [],
   "source": [
    "# next_query = \"\"\"\n",
    "# DROP TABLE IF EXISTS patient_visit;\n",
    "# \"\"\"\n",
    "\n",
    "# execute_query(connection, next_query)"
   ]
  },
  {
   "cell_type": "code",
   "execution_count": null,
   "id": "3e7e6749-05e5-4765-8596-9c21e8d3a89a",
   "metadata": {},
   "outputs": [],
   "source": [
    "# next_query = \"\"\"\n",
    "# DROP TABLE IF EXISTS patient_spending;\n",
    "# \"\"\"\n",
    "\n",
    "# execute_query(connection, next_query)"
   ]
  },
  {
   "cell_type": "code",
   "execution_count": null,
   "id": "9e967613-f937-41d0-9848-d522ed9540e1",
   "metadata": {},
   "outputs": [],
   "source": [
    "# Generating the patient_spending Tabel "
   ]
  },
  {
   "cell_type": "code",
   "execution_count": 287,
   "id": "8c0af793-a494-47c2-b252-f911ff215df7",
   "metadata": {},
   "outputs": [
    {
     "name": "stdout",
     "output_type": "stream",
     "text": [
      "Query executed successfully\n",
      "Query executed successfully\n"
     ]
    }
   ],
   "source": [
    "create_patient_spending_table = \"\"\"\n",
    "CREATE TABLE patient_spending AS\n",
    "SELECT\n",
    "\t ntile(3) OVER (ORDER BY social_security_num) || social_security_num AS deident_patient_id,\n",
    "     visit_month_yyyymm,\n",
    "     charge_per_month\n",
    "FROM (\n",
    "\tSELECT\n",
    "\tRIGHT(CAST(\"social_security_num\" AS CHAR(7)), 6) AS social_security_num,\n",
    "\tto_char(visit_date,'YYYYMM') as visit_month_yyyymm,\n",
    "\tSUM(\"charge_for_visit\") AS \"charge_per_month\"\n",
    "\tFROM patient_visit\n",
    "\tGROUP BY social_security_num, visit_month_yyyymm\n",
    "\t) AS temp_table\n",
    "ORDER BY  visit_month_yyyymm ASC;\n",
    "\"\"\"\n",
    "\n",
    "try:\n",
    "    execute_query(connection, create_patient_spending_table)\n",
    "    raise Exception\n",
    "except Exception:\n",
    "    next_query = \"\"\"\n",
    "    DROP TABLE IF EXISTS patient_spending;\n",
    "    \"\"\"\n",
    "    execute_query(connection, next_query)\n",
    "    execute_query(connection, create_patient_spending_table)"
   ]
  },
  {
   "cell_type": "code",
   "execution_count": 288,
   "id": "e124867d-ca33-4847-b73d-13ee0967add0",
   "metadata": {},
   "outputs": [
    {
     "name": "stdout",
     "output_type": "stream",
     "text": [
      "('2513519', '202104', '$23.00')\n",
      "('2513519', '202104', '$23.00')\n",
      "('3513520', '202104', '$75.00')\n",
      "('1513518', '202104', '$24.00')\n",
      "('3513520', '202104', '$75.00')\n",
      "('1513518', '202104', '$63.00')\n",
      "('3513520', '202104', '$72.00')\n",
      "('3513520', '202104', '$63.00')\n",
      "('3513520', '202104', '$43.00')\n",
      "('2513519', '202104', '$23.00')\n",
      "('2513519', '202104', '$72.00')\n",
      "('2513519', '202105', '$34.00')\n",
      "('3513520', '202105', '$63.00')\n",
      "('3513520', '202105', '$24.00')\n",
      "('1513518', '202105', '$23.00')\n"
     ]
    }
   ],
   "source": [
    "check_patient_spending_table = \"\"\"\n",
    "SELECT *\n",
    "FROM patient_spending;\n",
    "\"\"\"\n",
    "execute_read_query(connection, check_patient_spending_table)"
   ]
  },
  {
   "cell_type": "code",
   "execution_count": null,
   "id": "3446eaba-c31f-4364-83fb-f689974abc16",
   "metadata": {},
   "outputs": [],
   "source": []
  },
  {
   "cell_type": "code",
   "execution_count": 71,
   "id": "e24e6c1a-43b0-4444-a921-c50aeeb02e98",
   "metadata": {},
   "outputs": [],
   "source": [
    "connection.close()"
   ]
  },
  {
   "cell_type": "code",
   "execution_count": null,
   "id": "dac61bc5-9c57-41f1-b662-9af804e5094b",
   "metadata": {},
   "outputs": [],
   "source": []
  },
  {
   "cell_type": "markdown",
   "id": "f1e4a62b-7a6d-4361-9473-97ac3cfef6b4",
   "metadata": {},
   "source": [
    "2.\tUnder your methodology of generating field `deident_patient_id`, what’s the maximum number of patient identifiers that could be generated if the field has to be an integer data type?  What if the data type is char(7)?  How did you come up with that number?"
   ]
  },
  {
   "cell_type": "markdown",
   "id": "fbded165-5e22-49d2-9c3a-ca28099b71db",
   "metadata": {},
   "source": [
    "This is a question having to do with the rule of products in combinatorics. If the `deident_patient_id` must be an `int(7)` data type we know that the first digit  \"must be one of 3 values (1, 2, 3)\", then the next 6 digits must be one of 10 values (0,1,2,3,4,5,6,7,8,9). Therefore we have:"
   ]
  },
  {
   "cell_type": "code",
   "execution_count": 323,
   "id": "1fe966f7-ec4a-4a8f-9b82-1f95c21caf1c",
   "metadata": {},
   "outputs": [
    {
     "data": {
      "text/plain": [
       "3000000"
      ]
     },
     "execution_count": 323,
     "metadata": {},
     "output_type": "execute_result"
    }
   ],
   "source": [
    "maximum_number_of_patient_identifiers = 3 * 10 * 10 * 10 * 10 * 10 * 10\n",
    "maximum_number_of_patient_identifiers"
   ]
  },
  {
   "cell_type": "markdown",
   "id": "f3a7b5cd-dceb-4eef-8873-e032a6d1c928",
   "metadata": {},
   "source": [
    "or equivalently:"
   ]
  },
  {
   "cell_type": "code",
   "execution_count": 324,
   "id": "4bdf0b50-6f0b-4d69-96c0-4b421575c535",
   "metadata": {},
   "outputs": [
    {
     "data": {
      "text/plain": [
       "3000000"
      ]
     },
     "execution_count": 324,
     "metadata": {},
     "output_type": "execute_result"
    }
   ],
   "source": [
    "set_of_first_digit_outcomes = 3 ** 1\n",
    "set_of_remaining_digit_outcomes = 10 ** 6\n",
    "maximum_number_of_patient_identifiers = set_of_first_digit_outcomes * set_of_remaining_digit_outcomes\n",
    "maximum_number_of_patient_identifiers"
   ]
  },
  {
   "cell_type": "markdown",
   "id": "b8220e25-7777-448a-bb37-4e7b76086de3",
   "metadata": {},
   "source": [
    "If the data type is type char(7), it depends on [by the database character set](https://www.postgresql.org/docs/9.5/datatype-character.html) according the the PostgreSQL 9.5 Documentation. UTF=8 seems to be the default database character set and [ASCII] is the the most common subset of UTF-8. Most sources cite that ASCII contains 128 chars ([0,127]), [MS's documentation for T-SQL and char datatypes corresponds with this.](https://docs.microsoft.com/en-us/sql/t-sql/functions/char-transact-sql?view=sql-server-ver15), the same rule of products applies then. Therefore, we have:"
   ]
  },
  {
   "cell_type": "code",
   "execution_count": 325,
   "id": "1351fec5-f5a4-4225-b3c3-591ee0e5280c",
   "metadata": {},
   "outputs": [
    {
     "data": {
      "text/plain": [
       "13194139533312"
      ]
     },
     "execution_count": 325,
     "metadata": {},
     "output_type": "execute_result"
    }
   ],
   "source": [
    "set_of_first_digit_outcomes = 3 ** 1\n",
    "set_of_remaining_digit_outcomes = 128 ** 6\n",
    "maximum_number_of_patient_identifiers = set_of_first_digit_outcomes * set_of_remaining_digit_outcomes\n",
    "maximum_number_of_patient_identifiers"
   ]
  },
  {
   "cell_type": "markdown",
   "id": "8599f225-45ef-47b6-b0db-db368464ed08",
   "metadata": {},
   "source": [
    "*Note: the actual  figure can be lower than this, because some SQL databases (depending on which version of SQL we are using) do now allow the use of certain characters."
   ]
  },
  {
   "cell_type": "code",
   "execution_count": null,
   "id": "c409e367-bd41-4c4f-94fc-aaf2e5a3b115",
   "metadata": {},
   "outputs": [],
   "source": []
  },
  {
   "cell_type": "markdown",
   "id": "b3a47fee-f799-45d2-beb8-ad8c8a16a8e4",
   "metadata": {},
   "source": [
    "3.\tNext we need to take the name and email address from table patient_contact_info  and combine it with the doctor name from table patient_visit, so that we can generate table announce_doctor.  This is needed so that we can send appropriate emails to the patients.  However, since the two tables come from completely different sources, it’s quite possible that the patient names don’t match up exactly.  How would you go about producing the most accurate merge possible?"
   ]
  },
  {
   "cell_type": "code",
   "execution_count": null,
   "id": "1d05fbd8-1f73-4689-90f8-55d935a66aab",
   "metadata": {},
   "outputs": [],
   "source": [
    "# create_patient_contact_info_table = \"\"\"\n",
    "# CREATE TABLE patient_spending AS\n",
    "# SELECT\n",
    "#     patient_full_name,\n",
    "#     email_address,\n",
    "#     doctor_name\n",
    "#     FROM patient_contact_info\n",
    "#     INNER JOIN patient_visit\n",
    "#      --Assuming that there are no first or last names less than 3 chars. Also may beed to be seperate select &/or use Like & Having.\n",
    "# \t ON patient_visit(LEFT(patient_contact_info.\"patient_first_name\"), 3) || RIGHT(patient_contact_info.\"patient_last_name\"), 3)).patient_contact_info = \n",
    "#      patient_visit(LEFT(patient_visit.\"patient_full_name\"), 3) || RIGHT(patient_visit.\"patient_full_name\"), 3)) \n",
    "#  \"\"\""
   ]
  }
 ],
 "metadata": {
  "kernelspec": {
   "display_name": "Python 3 (ipykernel)",
   "language": "python",
   "name": "python3"
  },
  "language_info": {
   "codemirror_mode": {
    "name": "ipython",
    "version": 3
   },
   "file_extension": ".py",
   "mimetype": "text/x-python",
   "name": "python",
   "nbconvert_exporter": "python",
   "pygments_lexer": "ipython3",
   "version": "3.7.7"
  }
 },
 "nbformat": 4,
 "nbformat_minor": 5
}
