{
 "cells": [
  {
   "cell_type": "markdown",
   "metadata": {},
   "source": [
    "# JSON Interpreter To Generate Code for Workflow Engine"
   ]
  },
  {
   "cell_type": "markdown",
   "metadata": {},
   "source": [
    "## Explore Data's Structure"
   ]
  },
  {
   "cell_type": "code",
   "execution_count": 592,
   "metadata": {},
   "outputs": [],
   "source": [
    "import pandas as pd"
   ]
  },
  {
   "cell_type": "code",
   "execution_count": 593,
   "metadata": {},
   "outputs": [],
   "source": [
    "df = pd.read_json('job_definition.json', )"
   ]
  },
  {
   "cell_type": "code",
   "execution_count": 594,
   "metadata": {},
   "outputs": [
    {
     "data": {
      "text/html": [
       "<div>\n",
       "<style scoped>\n",
       "    .dataframe tbody tr th:only-of-type {\n",
       "        vertical-align: middle;\n",
       "    }\n",
       "\n",
       "    .dataframe tbody tr th {\n",
       "        vertical-align: top;\n",
       "    }\n",
       "\n",
       "    .dataframe thead th {\n",
       "        text-align: right;\n",
       "    }\n",
       "</style>\n",
       "<table border=\"1\" class=\"dataframe\">\n",
       "  <thead>\n",
       "    <tr style=\"text-align: right;\">\n",
       "      <th></th>\n",
       "      <th>function_z</th>\n",
       "    </tr>\n",
       "  </thead>\n",
       "  <tbody>\n",
       "    <tr>\n",
       "      <th>0</th>\n",
       "      <td>param_4</td>\n",
       "    </tr>\n",
       "    <tr>\n",
       "      <th>1</th>\n",
       "      <td>{'function_x': {'function_w': ['param_1', 'par...</td>\n",
       "    </tr>\n",
       "    <tr>\n",
       "      <th>2</th>\n",
       "      <td>{'function_y': 'param_3'}</td>\n",
       "    </tr>\n",
       "  </tbody>\n",
       "</table>\n",
       "</div>"
      ],
      "text/plain": [
       "                                          function_z\n",
       "0                                            param_4\n",
       "1  {'function_x': {'function_w': ['param_1', 'par...\n",
       "2                          {'function_y': 'param_3'}"
      ]
     },
     "execution_count": 594,
     "metadata": {},
     "output_type": "execute_result"
    }
   ],
   "source": [
    "df"
   ]
  },
  {
   "cell_type": "markdown",
   "metadata": {},
   "source": [
    "## Import JSON Data to Dictionary and Save to `.txt` File."
   ]
  },
  {
   "cell_type": "code",
   "execution_count": 595,
   "metadata": {},
   "outputs": [],
   "source": [
    "import json\n",
    "\n",
    "with open(\"job_definition.json\", \"r\") as json_file:\n",
    "    my_dict = json.load(json_file)"
   ]
  },
  {
   "cell_type": "code",
   "execution_count": 615,
   "metadata": {
    "tags": []
   },
   "outputs": [],
   "source": [
    "def lowest_level(dict_x, z):\n",
    "    \"\"\"\n",
    "    Function that accepts input from a dictionary and a counter int.\n",
    "    Returns\n",
    "    \"\"\"    \n",
    "    if type(dict_x) == dict:\n",
    "        for x in dict_x.keys():\n",
    "            another_key = x\n",
    "        arg_list.append(another_key)\n",
    "        results.append('result_' + another_key[-1])\n",
    "        if z == 0:\n",
    "            other_arg_list.append('result_' + another_key[-1])\n",
    "        z += 1\n",
    "        lowest_level(dict_x[another_key], z)\n",
    "    else:\n",
    "        dict_x = str(dict_x).strip('[]').replace(\"'\",'')\n",
    "        try:\n",
    "            code_line.append(results[-1] + ' = {}('.format(arg_list[-1]) + str(dict_x) + ')')\n",
    "            results.pop()\n",
    "            try:\n",
    "                r_splice = code_line[0].find(' ')\n",
    "                parameter = code_line[0][:r_splice]\n",
    "                code_line.append(results[-1] + ' = {}('.format(arg_list[-1]) + str(parameter) + ')')\n",
    "                results.pop()\n",
    "            except:\n",
    "                pass\n",
    "        except:\n",
    "            other_arg_list.append(dict_x)"
   ]
  },
  {
   "cell_type": "code",
   "execution_count": 697,
   "metadata": {},
   "outputs": [],
   "source": [
    "z = 0\n",
    "results = []\n",
    "arg_list = []\n",
    "other_arg_list = []\n",
    "code_line = []\n",
    "a_key = ''\n",
    "\n",
    "def output_func(input_dict, file_ext):\n",
    "    \"\"\"Function that accepts dictionary and a file extension and saves it to a file in the\n",
    "    root project folder directory.\"\"\"\n",
    "    output_text = []\n",
    "    for x in input_dict.keys():\n",
    "        a_key = x\n",
    "    for x in input_dict[a_key]:\n",
    "        lowest_level(x, z)\n",
    "    results.append(a_key)\n",
    "    code_line.append('result_' + a_key[-1] + ' = {}('.format(a_key) + str(other_arg_list).strip('[]').replace(\"'\",'') + ')')\n",
    "    f = open(\"Workflow_Engine_Source_Code.{}\".format(file_ext), \"w\")\n",
    "    i = 0\n",
    "    for x in code_line:\n",
    "        if i < len(code_line) - 1:\n",
    "            f.writelines(str(x) + '\\n')\n",
    "        else:\n",
    "            f.writelines(str(x))\n",
    "        i += 1\n",
    "    f.close()"
   ]
  },
  {
   "cell_type": "code",
   "execution_count": 698,
   "metadata": {},
   "outputs": [],
   "source": [
    "# Input dictionary and file extension. \n",
    "output_func(my_dict, 'txt')"
   ]
  },
  {
   "cell_type": "markdown",
   "metadata": {},
   "source": [
    "## Verify Code is Correct"
   ]
  },
  {
   "cell_type": "code",
   "execution_count": 702,
   "metadata": {},
   "outputs": [
    {
     "name": "stdout",
     "output_type": "stream",
     "text": [
      "result_w = function_w(param_1, param_2)\n",
      "\n",
      "result_x = function_w(result_w)\n",
      "\n",
      "result_y = function_y(param_3)\n",
      "\n",
      "result_z = function_z(param_4, result_x, result_y)\n"
     ]
    }
   ],
   "source": [
    "f = open(\"Workflow_Engine_Source_Code.txt\", \"r\")\n",
    "for x in f:\n",
    "    print(x)"
   ]
  },
  {
   "cell_type": "code",
   "execution_count": 703,
   "metadata": {},
   "outputs": [
    {
     "name": "stdout",
     "output_type": "stream",
     "text": [
      "result_w = function_w(param_1, param_2)\n",
      "result_x = function_w(result_w)\n",
      "result_y = function_y(param_3)\n",
      "result_z = function_z(param_4, result_x, result_y)"
     ]
    }
   ],
   "source": [
    "# !cat Workflow_Engine_Source_Code.txt"
   ]
  },
  {
   "cell_type": "code",
   "execution_count": null,
   "metadata": {},
   "outputs": [],
   "source": []
  }
 ],
 "metadata": {
  "kernelspec": {
   "display_name": "Python 3 (ipykernel)",
   "language": "python",
   "name": "python3"
  },
  "language_info": {
   "codemirror_mode": {
    "name": "ipython",
    "version": 3
   },
   "file_extension": ".py",
   "mimetype": "text/x-python",
   "name": "python",
   "nbconvert_exporter": "python",
   "pygments_lexer": "ipython3",
   "version": "3.7.7"
  }
 },
 "nbformat": 4,
 "nbformat_minor": 4
}
